{
  "nbformat": 4,
  "nbformat_minor": 0,
  "metadata": {
    "colab": {
      "provenance": [],
      "collapsed_sections": []
    },
    "kernelspec": {
      "name": "python3",
      "display_name": "Python 3"
    },
    "language_info": {
      "name": "python"
    }
  },
  "cells": [
    {
      "cell_type": "code",
      "execution_count": 67,
      "metadata": {
        "colab": {
          "base_uri": "https://localhost:8080/"
        },
        "id": "LkCipJF-F-wK",
        "outputId": "9d774708-8565-4a1d-ad94-ec505e183fc4"
      },
      "outputs": [
        {
          "output_type": "stream",
          "name": "stdout",
          "text": [
            "Drive already mounted at /content/drive; to attempt to forcibly remount, call drive.mount(\"/content/drive\", force_remount=True).\n"
          ]
        }
      ],
      "source": [
        "import pandas as pnda\n",
        "import matplotlib.pyplot as plt\n",
        "import numpy as np\n",
        "import csv\n",
        "import seaborn as sns\n",
        "from google.colab import drive\n",
        "drive.mount('/content/drive')"
      ]
    },
    {
      "cell_type": "code",
      "source": [
        "data_path = '/content/drive/MyDrive/ML/data2.txt'"
      ],
      "metadata": {
        "id": "--d7rlbMGyjX"
      },
      "execution_count": 68,
      "outputs": []
    },
    {
      "cell_type": "code",
      "source": [
        "data = pnda.read_csv(data_path, header=None, names = [\"x1\",\"x2\",\"y\"])\n",
        "data.head()"
      ],
      "metadata": {
        "id": "_ET7Ev_8HF6L",
        "colab": {
          "base_uri": "https://localhost:8080/",
          "height": 206
        },
        "outputId": "2de78ebf-5aaa-40f9-ae61-677624434ee8"
      },
      "execution_count": 69,
      "outputs": [
        {
          "output_type": "execute_result",
          "data": {
            "text/plain": [
              "         x1       x2  y\n",
              "0  0.051267  0.69956  1\n",
              "1 -0.092742  0.68494  1\n",
              "2 -0.213710  0.69225  1\n",
              "3 -0.375000  0.50219  1\n",
              "4 -0.513250  0.46564  1"
            ],
            "text/html": [
              "\n",
              "  <div id=\"df-c3ddd754-cd73-4cb1-a751-34bb170f6079\">\n",
              "    <div class=\"colab-df-container\">\n",
              "      <div>\n",
              "<style scoped>\n",
              "    .dataframe tbody tr th:only-of-type {\n",
              "        vertical-align: middle;\n",
              "    }\n",
              "\n",
              "    .dataframe tbody tr th {\n",
              "        vertical-align: top;\n",
              "    }\n",
              "\n",
              "    .dataframe thead th {\n",
              "        text-align: right;\n",
              "    }\n",
              "</style>\n",
              "<table border=\"1\" class=\"dataframe\">\n",
              "  <thead>\n",
              "    <tr style=\"text-align: right;\">\n",
              "      <th></th>\n",
              "      <th>x1</th>\n",
              "      <th>x2</th>\n",
              "      <th>y</th>\n",
              "    </tr>\n",
              "  </thead>\n",
              "  <tbody>\n",
              "    <tr>\n",
              "      <th>0</th>\n",
              "      <td>0.051267</td>\n",
              "      <td>0.69956</td>\n",
              "      <td>1</td>\n",
              "    </tr>\n",
              "    <tr>\n",
              "      <th>1</th>\n",
              "      <td>-0.092742</td>\n",
              "      <td>0.68494</td>\n",
              "      <td>1</td>\n",
              "    </tr>\n",
              "    <tr>\n",
              "      <th>2</th>\n",
              "      <td>-0.213710</td>\n",
              "      <td>0.69225</td>\n",
              "      <td>1</td>\n",
              "    </tr>\n",
              "    <tr>\n",
              "      <th>3</th>\n",
              "      <td>-0.375000</td>\n",
              "      <td>0.50219</td>\n",
              "      <td>1</td>\n",
              "    </tr>\n",
              "    <tr>\n",
              "      <th>4</th>\n",
              "      <td>-0.513250</td>\n",
              "      <td>0.46564</td>\n",
              "      <td>1</td>\n",
              "    </tr>\n",
              "  </tbody>\n",
              "</table>\n",
              "</div>\n",
              "      <button class=\"colab-df-convert\" onclick=\"convertToInteractive('df-c3ddd754-cd73-4cb1-a751-34bb170f6079')\"\n",
              "              title=\"Convert this dataframe to an interactive table.\"\n",
              "              style=\"display:none;\">\n",
              "        \n",
              "  <svg xmlns=\"http://www.w3.org/2000/svg\" height=\"24px\"viewBox=\"0 0 24 24\"\n",
              "       width=\"24px\">\n",
              "    <path d=\"M0 0h24v24H0V0z\" fill=\"none\"/>\n",
              "    <path d=\"M18.56 5.44l.94 2.06.94-2.06 2.06-.94-2.06-.94-.94-2.06-.94 2.06-2.06.94zm-11 1L8.5 8.5l.94-2.06 2.06-.94-2.06-.94L8.5 2.5l-.94 2.06-2.06.94zm10 10l.94 2.06.94-2.06 2.06-.94-2.06-.94-.94-2.06-.94 2.06-2.06.94z\"/><path d=\"M17.41 7.96l-1.37-1.37c-.4-.4-.92-.59-1.43-.59-.52 0-1.04.2-1.43.59L10.3 9.45l-7.72 7.72c-.78.78-.78 2.05 0 2.83L4 21.41c.39.39.9.59 1.41.59.51 0 1.02-.2 1.41-.59l7.78-7.78 2.81-2.81c.8-.78.8-2.07 0-2.86zM5.41 20L4 18.59l7.72-7.72 1.47 1.35L5.41 20z\"/>\n",
              "  </svg>\n",
              "      </button>\n",
              "      \n",
              "  <style>\n",
              "    .colab-df-container {\n",
              "      display:flex;\n",
              "      flex-wrap:wrap;\n",
              "      gap: 12px;\n",
              "    }\n",
              "\n",
              "    .colab-df-convert {\n",
              "      background-color: #E8F0FE;\n",
              "      border: none;\n",
              "      border-radius: 50%;\n",
              "      cursor: pointer;\n",
              "      display: none;\n",
              "      fill: #1967D2;\n",
              "      height: 32px;\n",
              "      padding: 0 0 0 0;\n",
              "      width: 32px;\n",
              "    }\n",
              "\n",
              "    .colab-df-convert:hover {\n",
              "      background-color: #E2EBFA;\n",
              "      box-shadow: 0px 1px 2px rgba(60, 64, 67, 0.3), 0px 1px 3px 1px rgba(60, 64, 67, 0.15);\n",
              "      fill: #174EA6;\n",
              "    }\n",
              "\n",
              "    [theme=dark] .colab-df-convert {\n",
              "      background-color: #3B4455;\n",
              "      fill: #D2E3FC;\n",
              "    }\n",
              "\n",
              "    [theme=dark] .colab-df-convert:hover {\n",
              "      background-color: #434B5C;\n",
              "      box-shadow: 0px 1px 3px 1px rgba(0, 0, 0, 0.15);\n",
              "      filter: drop-shadow(0px 1px 2px rgba(0, 0, 0, 0.3));\n",
              "      fill: #FFFFFF;\n",
              "    }\n",
              "  </style>\n",
              "\n",
              "      <script>\n",
              "        const buttonEl =\n",
              "          document.querySelector('#df-c3ddd754-cd73-4cb1-a751-34bb170f6079 button.colab-df-convert');\n",
              "        buttonEl.style.display =\n",
              "          google.colab.kernel.accessAllowed ? 'block' : 'none';\n",
              "\n",
              "        async function convertToInteractive(key) {\n",
              "          const element = document.querySelector('#df-c3ddd754-cd73-4cb1-a751-34bb170f6079');\n",
              "          const dataTable =\n",
              "            await google.colab.kernel.invokeFunction('convertToInteractive',\n",
              "                                                     [key], {});\n",
              "          if (!dataTable) return;\n",
              "\n",
              "          const docLinkHtml = 'Like what you see? Visit the ' +\n",
              "            '<a target=\"_blank\" href=https://colab.research.google.com/notebooks/data_table.ipynb>data table notebook</a>'\n",
              "            + ' to learn more about interactive tables.';\n",
              "          element.innerHTML = '';\n",
              "          dataTable['output_type'] = 'display_data';\n",
              "          await google.colab.output.renderOutput(dataTable, element);\n",
              "          const docLink = document.createElement('div');\n",
              "          docLink.innerHTML = docLinkHtml;\n",
              "          element.appendChild(docLink);\n",
              "        }\n",
              "      </script>\n",
              "    </div>\n",
              "  </div>\n",
              "  "
            ]
          },
          "metadata": {},
          "execution_count": 69
        }
      ]
    },
    {
      "cell_type": "code",
      "source": [
        "def plotData(data, label_x, label_y, label_postv, label_negtv, axes=None):\n",
        "    \n",
        "    negtv = data['y'] == 0\n",
        "    postv = data['y'] == 1\n",
        "\n",
        "    if axes == None:\n",
        "        axes = plt.gca()\n",
        "    axes.scatter(data[postv]['x1'], data[postv]['x2'], marker='+', c='orange', s=60, linewidth=2, label=label_postv)\n",
        "    axes.scatter(data[negtv]['x1'], data[negtv]['x2'], c='black', s=60, label=label_negtv)\n",
        "    axes.set_xlabel(label_x)\n",
        "    axes.set_ylabel(label_y)\n",
        "    axes.legend(frameon= True, fancybox = True);"
      ],
      "metadata": {
        "id": "WQsM0IONHNWP"
      },
      "execution_count": 70,
      "outputs": []
    },
    {
      "cell_type": "code",
      "source": [
        "plotData(data, 'Microchip Test 1', 'Microchip Test 2', 'y = 1', 'y = 0')"
      ],
      "metadata": {
        "id": "mPAeH_KOHRru",
        "colab": {
          "base_uri": "https://localhost:8080/",
          "height": 279
        },
        "outputId": "5aba7fc7-d636-45c6-c02d-f866962948a9"
      },
      "execution_count": 71,
      "outputs": [
        {
          "output_type": "display_data",
          "data": {
            "text/plain": [
              "<Figure size 432x288 with 1 Axes>"
            ],
            "image/png": "[encoded data removed]"
          },
          "metadata": {
            "needs_background": "light"
          }
        }
      ]
    },
    {
      "cell_type": "code",
      "source": [
        "n = data.shape[1]-1\n",
        "x = data[data.columns[0:n]]\n",
        "\n",
        "y = data[data.columns[n:n+1]]\n",
        "\n",
        "X = x.values\n",
        "y = y.values"
      ],
      "metadata": {
        "id": "v232jZmWHULu"
      },
      "execution_count": 72,
      "outputs": []
    },
    {
      "cell_type": "code",
      "source": [
        "def mapFeature( x1col, x2col):\n",
        "    degrees = 6\n",
        "    out = np.ones( (x1col.shape[0], 1) )\n",
        "\n",
        "    for i in range(1, degrees+1):\n",
        "        for j in range(0, i+1):\n",
        "            term1 = x1col ** (i-j)\n",
        "            term2 = x2col ** (j)\n",
        "            term  = (term1 * term2).reshape( term1.shape[0], 1 ) \n",
        "            out   = np.hstack(( out, term ))\n",
        "    return out"
      ],
      "metadata": {
        "id": "XgO2azaRdPCc"
      },
      "execution_count": 73,
      "outputs": []
    },
    {
      "cell_type": "code",
      "source": [
        "XX = mapFeature(X[:,0],X[:,1])\n",
        "print(X.shape, XX.shape)"
      ],
      "metadata": {
        "id": "4zmnrt28HZF3",
        "colab": {
          "base_uri": "https://localhost:8080/"
        },
        "outputId": "ebd56899-3188-4f25-d939-aab1221d0f7b"
      },
      "execution_count": 74,
      "outputs": [
        {
          "output_type": "stream",
          "name": "stdout",
          "text": [
            "(118, 2) (118, 28)\n"
          ]
        }
      ]
    },
    {
      "cell_type": "code",
      "source": [
        "def sigmoid(z):\n",
        "   s = 1 / (1 + np.exp(-z))\n",
        "   return s"
      ],
      "metadata": {
        "id": "sxKJKwaKLP5G"
      },
      "execution_count": 75,
      "outputs": []
    },
    {
      "cell_type": "code",
      "source": [
        "def initializeWithZeroes(dim):\n",
        "    w = np.zeros([dim, 1])\n",
        "    b = 0.0\n",
        "\n",
        "    assert(w.shape == (dim, 1))\n",
        "    assert(isinstance(b, float) or isinstance(b, int))\n",
        "    return w, b"
      ],
      "metadata": {
        "id": "AmsfWeZoYsqo"
      },
      "execution_count": 76,
      "outputs": []
    },
    {
      "cell_type": "code",
      "source": [
        "def propagate(w, X, Y, lambd = 0.):\n",
        "\n",
        "    m = X.shape[1]\n",
        "\n",
        "    A = sigmoid(np.dot(w.T, X))\n",
        "    cost = (-1 / m) * np.sum((Y * np.log(A)) + ((1-Y) * np.log(1-A))) + (lambd/(2*m)) * np.sum(np.dot(w, w.T))\n",
        "    dw = (1 / m) * np.dot(X, (A - Y).T) + (lambd /m) * w\n",
        "    return dw, cost"
      ],
      "metadata": {
        "id": "pSqGpkkbHetr"
      },
      "execution_count": 77,
      "outputs": []
    },
    {
      "cell_type": "code",
      "source": [
        "XX = XX.T"
      ],
      "metadata": {
        "id": "sef50SpxY6Mg"
      },
      "execution_count": 78,
      "outputs": []
    },
    {
      "cell_type": "code",
      "source": [
        "w, b = initializeWithZeroes(XX.shape[0])\n",
        "print(XX.shape)\n",
        "print(w.shape)\n",
        "print(y.shape)"
      ],
      "metadata": {
        "id": "zsnLy8rrXZUy",
        "outputId": "c331d541-bbdd-4d52-bdc4-9431002c1970",
        "colab": {
          "base_uri": "https://localhost:8080/"
        }
      },
      "execution_count": 79,
      "outputs": [
        {
          "output_type": "stream",
          "name": "stdout",
          "text": [
            "(28, 118)\n",
            "(28, 1)\n",
            "(118, 1)\n"
          ]
        }
      ]
    },
    {
      "cell_type": "code",
      "source": [
        "def optmz(w, X, Y, num_iterations, learning_rate, print_cost = False, lambd  = 0):\n",
        "\n",
        "    \n",
        "    costs = []\n",
        "    minimumCost = 0\n",
        "    for i in range(num_iterations):\n",
        "        \n",
        "        dw, cost = propagate(w, X, Y, lambd)\n",
        "\n",
        "        w = w - learning_rate * dw\n",
        "\n",
        "        minimumCost = cost\n",
        "\n",
        "        if i % 10000 == 0:\n",
        "            costs.append(cost)\n",
        "        \n",
        "        if print_cost and i % 10000 == 0:\n",
        "            print (\"Cost after iteration %i: %f\" %(i, cost))\n",
        "    \n",
        "\n",
        "    \n",
        "    return w, minimumCost"
      ],
      "metadata": {
        "id": "SWqHfcXam2NW"
      },
      "execution_count": 80,
      "outputs": []
    },
    {
      "cell_type": "code",
      "source": [
        "w, minimumCost = optmz(w, XX, y.T, num_iterations= 1000000, learning_rate = 0.001, print_cost = False, lambd = 1)\n",
        "print(w)\n",
        "print(minimumCost)"
      ],
      "metadata": {
        "id": "I-cvWzgGYU21",
        "outputId": "de1c795d-b27b-4817-af40-1f86548337b8",
        "colab": {
          "base_uri": "https://localhost:8080/"
        }
      },
      "execution_count": 81,
      "outputs": [
        {
          "output_type": "stream",
          "name": "stdout",
          "text": [
            "[[ 1.14213145]\n",
            " [ 0.60132088]\n",
            " [ 1.167178  ]\n",
            " [-1.87174401]\n",
            " [-0.9157084 ]\n",
            " [-1.2695127 ]\n",
            " [ 0.12668332]\n",
            " [-0.36873221]\n",
            " [-0.3451998 ]\n",
            " [-0.17376403]\n",
            " [-1.42385891]\n",
            " [-0.04858534]\n",
            " [-0.60641603]\n",
            " [-0.26931731]\n",
            " [-1.16315361]\n",
            " [-0.24309538]\n",
            " [-0.20708119]\n",
            " [-0.04320545]\n",
            " [-0.28027399]\n",
            " [-0.28695651]\n",
            " [-0.46911904]\n",
            " [-1.03618109]\n",
            " [ 0.02921455]\n",
            " [-0.29262298]\n",
            " [ 0.01734985]\n",
            " [-0.32896723]\n",
            " [-0.13795881]\n",
            " [-0.93200876]]\n",
            "0.8613529293511011\n"
          ]
        }
      ]
    },
    {
      "cell_type": "code",
      "source": [
        "def plotBoundary(Nw, XX, y, lambda1=0.):\n",
        "\n",
        "    w, minimumCost = optmz(Nw, XX, y.T, num_iterations= 1000000, learning_rate = 0.001, print_cost = False, lambd=lambda1)\n",
        "    print(w, '\\n\\nCost : ', minimumCost, '\\n \\n ')\n",
        "    xValues = np.linspace(-1,1.5,50)\n",
        "    yValues = np.linspace(-1,1.5,50)\n",
        "    zValues = np.zeros((len(xValues),len(yValues)))\n",
        "\n",
        "    for i in range(len(xValues)):\n",
        "        for j in range(len(yValues)):\n",
        "            featuresij = mapFeature(np.array([xValues[i]]),np.array([yValues[j]]))\n",
        "            zValues[i][j] = np.dot(w.T,featuresij.T)\n",
        "\n",
        "    zValues = zValues.transpose()\n",
        "\n",
        "    u, v = np.meshgrid( xValues, yValues )\n",
        "    countr = plt.contour( xValues, yValues, zValues, [0])\n",
        "    \n",
        "    fmt1 = { 0:'Lambda = %d'%lambda1}\n",
        "    plt.clabel(countr, inline=1, fontsize=9, fmt=fmt1)\n",
        "    plt.title(\"Decision Boundary\")"
      ],
      "metadata": {
        "id": "n3VQpykTQ1ip"
      },
      "execution_count": 82,
      "outputs": []
    },
    {
      "cell_type": "code",
      "source": [
        "Nw, b = initializeWithZeroes(XX.shape[0])\n",
        "\n",
        "plt.figure(figsize=(12,10))\n",
        "plt.subplot(221)\n",
        "plotData(data, 'Microchip Test 1', 'Microchip Test 2', 'y = 1', 'y = 0')\n",
        "plotBoundary(Nw, XX, y, 0.)\n",
        "\n",
        "plt.subplot(222)\n",
        "plotData(data, 'Microchip Test 1', 'Microchip Test 2', 'y = 1', 'y = 0')\n",
        "plotBoundary(Nw,XX,y,1.)\n",
        "\n",
        "plt.subplot(223)\n",
        "plotData(data, 'Microchip Test 1', 'Microchip Test 2', 'y = 1', 'y = 0')\n",
        "plotBoundary(Nw,XX,y,10.)\n",
        "\n",
        "plt.subplot(224)\n",
        "plotData(data, 'Microchip Test 1', 'Microchip Test 2', 'y = 1', 'y = 0')\n",
        "plotBoundary(Nw,XX,y,50.)"
      ],
      "metadata": {
        "id": "JJvTscBAUJjT",
        "colab": {
          "base_uri": "https://localhost:8080/",
          "height": 1000
        },
        "outputId": "ce7020c6-6c52-47d0-dc50-94af690c8a0f"
      },
      "execution_count": 83,
      "outputs": [
        {
          "output_type": "stream",
          "name": "stdout",
          "text": [
            "[[ 3.25244274]\n",
            " [ 2.30608816]\n",
            " [ 3.5688447 ]\n",
            " [-5.0283261 ]\n",
            " [-4.11115661]\n",
            " [-4.9824597 ]\n",
            " [ 1.02420559]\n",
            " [-1.50817108]\n",
            " [-0.9483372 ]\n",
            " [-0.33271507]\n",
            " [-4.10498621]\n",
            " [ 0.28791734]\n",
            " [-2.18809451]\n",
            " [-1.54637329]\n",
            " [-3.3736672 ]\n",
            " [-0.60856201]\n",
            " [-0.70798831]\n",
            " [ 0.42613897]\n",
            " [-1.29118117]\n",
            " [-1.49517217]\n",
            " [-0.24580746]\n",
            " [-3.25834248]\n",
            " [ 0.37348819]\n",
            " [-0.97043145]\n",
            " [ 0.2946388 ]\n",
            " [-1.3071119 ]\n",
            " [-1.14328699]\n",
            " [-1.68066442]] \n",
            "\n",
            "Cost :  0.34042056526759507 \n",
            " \n",
            " \n",
            "[[ 1.14213145]\n",
            " [ 0.60132088]\n",
            " [ 1.167178  ]\n",
            " [-1.87174401]\n",
            " [-0.9157084 ]\n",
            " [-1.2695127 ]\n",
            " [ 0.12668332]\n",
            " [-0.36873221]\n",
            " [-0.3451998 ]\n",
            " [-0.17376403]\n",
            " [-1.42385891]\n",
            " [-0.04858534]\n",
            " [-0.60641603]\n",
            " [-0.26931731]\n",
            " [-1.16315361]\n",
            " [-0.24309538]\n",
            " [-0.20708119]\n",
            " [-0.04320545]\n",
            " [-0.28027399]\n",
            " [-0.28695651]\n",
            " [-0.46911904]\n",
            " [-1.03618109]\n",
            " [ 0.02921455]\n",
            " [-0.29262298]\n",
            " [ 0.01734985]\n",
            " [-0.32896723]\n",
            " [-0.13795881]\n",
            " [-0.93200876]] \n",
            "\n",
            "Cost :  0.8613529293511011 \n",
            " \n",
            " \n",
            "[[ 0.21471371]\n",
            " [-0.00759417]\n",
            " [ 0.17609632]\n",
            " [-0.40128043]\n",
            " [-0.11744862]\n",
            " [-0.23187723]\n",
            " [-0.06667994]\n",
            " [-0.05584259]\n",
            " [-0.06214433]\n",
            " [-0.09712316]\n",
            " [-0.31766636]\n",
            " [-0.01468064]\n",
            " [-0.10912919]\n",
            " [-0.03014287]\n",
            " [-0.2676533 ]\n",
            " [-0.11186996]\n",
            " [-0.03627426]\n",
            " [-0.02114481]\n",
            " [-0.04753649]\n",
            " [-0.04037679]\n",
            " [-0.18120239]\n",
            " [-0.24308858]\n",
            " [-0.00364209]\n",
            " [-0.05525125]\n",
            " [-0.00101445]\n",
            " [-0.06093905]\n",
            " [-0.01293853]\n",
            " [-0.26289808]] \n",
            "\n",
            "Cost :  0.8793989684722894 \n",
            " \n",
            " \n",
            "[[ 0.02367075]\n",
            " [-0.02732086]\n",
            " [ 0.02013701]\n",
            " [-0.10146103]\n",
            " [-0.02595638]\n",
            " [-0.06644261]\n",
            " [-0.03145835]\n",
            " [-0.01404218]\n",
            " [-0.01653234]\n",
            " [-0.03791937]\n",
            " [-0.08103052]\n",
            " [-0.00436962]\n",
            " [-0.02637549]\n",
            " [-0.00686971]\n",
            " [-0.07454541]\n",
            " [-0.03755721]\n",
            " [-0.00881311]\n",
            " [-0.00647189]\n",
            " [-0.0117327 ]\n",
            " [-0.00958639]\n",
            " [-0.05668683]\n",
            " [-0.06372685]\n",
            " [-0.00185141]\n",
            " [-0.0132413 ]\n",
            " [-0.00065361]\n",
            " [-0.01492521]\n",
            " [-0.00303372]\n",
            " [-0.07457294]] \n",
            "\n",
            "Cost :  0.797643879555811 \n",
            " \n",
            " \n"
          ]
        },
        {
          "output_type": "display_data",
          "data": {
            "text/plain": [
              "<Figure size 864x720 with 4 Axes>"
            ],
            "image/png": "[encoded data removed]"
          },
          "metadata": {
            "needs_background": "light"
          }
        }
      ]
    }
  ]
}